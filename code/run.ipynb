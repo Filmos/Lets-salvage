{
 "cells": [
  {
   "cell_type": "code",
   "execution_count": 1,
   "metadata": {},
   "outputs": [],
   "source": [
    "from reading.reader import Reader\n",
    "from state.state_manager import StateManager\n",
    "from mods.salvage import SalvageModule\n",
    "from static import apply_static"
   ]
  },
  {
   "cell_type": "code",
   "execution_count": 2,
   "metadata": {},
   "outputs": [],
   "source": [
    "# reader = Reader(\"D:\\Games\\curseforge\\minecraft\\Instances\\TNP Limitless 7 - LL7\")\n",
    "reader = Reader(\"D:\\Games\\curseforge\\minecraft\\Instances\\TNP test\")\n",
    "state = apply_static(StateManager().load(reader)).save(\"state.pickle\")"
   ]
  },
  {
   "cell_type": "code",
   "execution_count": 2,
   "metadata": {},
   "outputs": [
    {
     "name": "stdout",
     "output_type": "stream",
     "text": [
      "[Salvaging] ingredients=[Item(amount=1, item='simplyswords:gold_glaive')] result=[Item(amount=2, item='minecraft:gold_ingot'), Item(amount=2, item='minecraft:stick')]\n",
      "[Salvaging] ingredients=[Item(amount=1, item='simplyswords:diamond_scythe')] result=[Item(amount=3, item='minecraft:diamond'), Item(amount=3, item='minecraft:stick')]\n",
      "[Salvaging] ingredients=[Item(amount=1, item='simplyswords:iron_sai')] result=[Item(amount=1, item='minecraft:iron_ingot'), Item(amount=1, item='minecraft:stick')]\n",
      "[Salvaging] ingredients=[Item(amount=1, item='simplyswords:gold_longsword')] result=[Item(amount=1, item='minecraft:stick'), Item(amount=2, item='minecraft:gold_ingot')]\n",
      "[Salvaging] ingredients=[Item(amount=1, item='simplyswords:gold_scythe')] result=[Item(amount=3, item='minecraft:gold_ingot'), Item(amount=3, item='minecraft:stick')]\n",
      "[Salvaging] ingredients=[Item(amount=1, item='simplyswords:gold_cutlass')] result=[Item(amount=1, item='minecraft:iron_nugget'), Item(amount=2, item='minecraft:gold_ingot'), Item(amount=1, item='minecraft:stick')]\n",
      "[Salvaging] ingredients=[Item(amount=1, item='simplyswords:gold_greathammer')] result=[Item(amount=3, item='minecraft:gold_ingot'), Item(amount=3, item='minecraft:iron_nugget'), Item(amount=1, item='minecraft:stick')]\n",
      "[Salvaging] ingredients=[Item(amount=1, item='simplyswords:diamond_sai')] result=[Item(amount=1, item='minecraft:diamond'), Item(amount=1, item='minecraft:stick')]\n",
      "[Salvaging] ingredients=[Item(amount=1, item='simplyswords:diamond_warglaive')] result=[Item(amount=1, item='minecraft:iron_nugget'), Item(amount=2, item='minecraft:diamond'), Item(amount=1, item='minecraft:stick')]\n",
      "[Salvaging] ingredients=[Item(amount=1, item='simplyswords:diamond_spear')] result=[Item(amount=1, item='minecraft:diamond'), Item(amount=2, item='minecraft:stick')]\n",
      "[Salvaging] ingredients=[Item(amount=1, item='simplyswords:iron_cutlass')] result=[Item(amount=1, item='minecraft:iron_nugget'), Item(amount=2, item='minecraft:iron_ingot'), Item(amount=1, item='minecraft:stick')]\n",
      "[Salvaging] ingredients=[Item(amount=1, item='simplyswords:gold_twinblade')] result=[Item(amount=2, item='minecraft:gold_ingot'), Item(amount=1, item='minecraft:stick')]\n",
      "[Salvaging] ingredients=[Item(amount=1, item='simplyswords:diamond_cutlass')] result=[Item(amount=1, item='minecraft:iron_nugget'), Item(amount=2, item='minecraft:diamond'), Item(amount=1, item='minecraft:stick')]\n",
      "[Salvaging] ingredients=[Item(amount=1, item='simplyswords:iron_rapier')] result=[Item(amount=2, item='minecraft:iron_ingot'), Item(amount=1, item='minecraft:stick')]\n",
      "[Salvaging] ingredients=[Item(amount=1, item='simplyswords:gold_rapier')] result=[Item(amount=2, item='minecraft:gold_ingot'), Item(amount=1, item='minecraft:stick')]\n",
      "[Salvaging] ingredients=[Item(amount=1, item='simplyswords:diamond_halberd')] result=[Item(amount=3, item='minecraft:diamond'), Item(amount=1, item='minecraft:iron_nugget'), Item(amount=2, item='minecraft:stick')]\n",
      "[Salvaging] ingredients=[Item(amount=1, item='simplyswords:iron_glaive')] result=[Item(amount=2, item='minecraft:iron_ingot'), Item(amount=2, item='minecraft:stick')]\n",
      "[Salvaging] ingredients=[Item(amount=1, item='simplyswords:iron_longsword')] result=[Item(amount=1, item='minecraft:stick'), Item(amount=2, item='minecraft:iron_ingot')]\n",
      "[Salvaging] ingredients=[Item(amount=1, item='simplyswords:iron_halberd')] result=[Item(amount=3, item='minecraft:iron_ingot'), Item(amount=1, item='minecraft:iron_nugget'), Item(amount=2, item='minecraft:stick')]\n",
      "[Salvaging] ingredients=[Item(amount=1, item='simplyswords:gold_spear')] result=[Item(amount=1, item='minecraft:gold_ingot'), Item(amount=2, item='minecraft:stick')]\n",
      "[Salvaging] ingredients=[Item(amount=1, item='simplyswords:iron_chakram')] result=[Item(amount=4, item='minecraft:iron_nugget'), Item(amount=3, item='minecraft:iron_ingot'), Item(amount=1, item='minecraft:stick')]\n",
      "[Salvaging] ingredients=[Item(amount=1, item='simplyswords:diamond_claymore')] result=[Item(amount=4, item='minecraft:iron_nugget'), Item(amount=2, item='minecraft:diamond'), Item(amount=1, item='minecraft:stick')]\n",
      "[Salvaging] ingredients=[Item(amount=1, item='simplyswords:iron_twinblade')] result=[Item(amount=2, item='minecraft:iron_ingot'), Item(amount=1, item='minecraft:stick')]\n",
      "[Salvaging] ingredients=[Item(amount=1, item='simplyswords:gold_chakram')] result=[Item(amount=4, item='minecraft:iron_nugget'), Item(amount=3, item='minecraft:gold_ingot'), Item(amount=1, item='minecraft:stick')]\n",
      "[Salvaging] ingredients=[Item(amount=1, item='simplyswords:iron_claymore')] result=[Item(amount=4, item='minecraft:iron_nugget'), Item(amount=2, item='minecraft:iron_ingot'), Item(amount=1, item='minecraft:stick')]\n",
      "[Salvaging] ingredients=[Item(amount=1, item='simplyswords:iron_scythe')] result=[Item(amount=3, item='minecraft:iron_ingot'), Item(amount=3, item='minecraft:stick')]\n",
      "[Salvaging] ingredients=[Item(amount=1, item='simplyswords:diamond_greataxe')] result=[Item(amount=3, item='minecraft:diamond'), Item(amount=2, item='minecraft:iron_nugget'), Item(amount=2, item='minecraft:stick')]\n",
      "[Salvaging] ingredients=[Item(amount=1, item='simplyswords:gold_katana')] result=[Item(amount=1, item='minecraft:stick'), Item(amount=2, item='minecraft:gold_ingot')]\n",
      "[Salvaging] ingredients=[Item(amount=1, item='simplyswords:iron_greataxe')] result=[Item(amount=3, item='minecraft:iron_ingot'), Item(amount=2, item='minecraft:iron_nugget'), Item(amount=2, item='minecraft:stick')]\n",
      "[Salvaging] ingredients=[Item(amount=1, item='simplyswords:gold_warglaive')] result=[Item(amount=1, item='minecraft:iron_nugget'), Item(amount=2, item='minecraft:gold_ingot'), Item(amount=1, item='minecraft:stick')]\n",
      "[Salvaging] ingredients=[Item(amount=1, item='simplyswords:gold_sai')] result=[Item(amount=1, item='minecraft:gold_ingot'), Item(amount=1, item='minecraft:stick')]\n",
      "[Salvaging] ingredients=[Item(amount=1, item='simplyswords:gold_halberd')] result=[Item(amount=3, item='minecraft:gold_ingot'), Item(amount=1, item='minecraft:iron_nugget'), Item(amount=2, item='minecraft:stick')]\n",
      "[Salvaging] ingredients=[Item(amount=1, item='simplyswords:diamond_glaive')] result=[Item(amount=2, item='minecraft:diamond'), Item(amount=2, item='minecraft:stick')]\n",
      "[Salvaging] ingredients=[Item(amount=1, item='simplyswords:diamond_longsword')] result=[Item(amount=1, item='minecraft:stick'), Item(amount=2, item='minecraft:diamond')]\n",
      "[Salvaging] ingredients=[Item(amount=1, item='simplyswords:gold_claymore')] result=[Item(amount=4, item='minecraft:iron_nugget'), Item(amount=2, item='minecraft:gold_ingot'), Item(amount=1, item='minecraft:stick')]\n",
      "[Salvaging] ingredients=[Item(amount=1, item='simplyswords:gold_greataxe')] result=[Item(amount=3, item='minecraft:gold_ingot'), Item(amount=2, item='minecraft:iron_nugget'), Item(amount=2, item='minecraft:stick')]\n",
      "[Salvaging] ingredients=[Item(amount=1, item='simplyswords:diamond_katana')] result=[Item(amount=1, item='minecraft:stick'), Item(amount=2, item='minecraft:diamond')]\n",
      "[Salvaging] ingredients=[Item(amount=1, item='simplyswords:iron_spear')] result=[Item(amount=1, item='minecraft:iron_ingot'), Item(amount=2, item='minecraft:stick')]\n",
      "[Salvaging] ingredients=[Item(amount=1, item='simplyswords:diamond_twinblade')] result=[Item(amount=2, item='minecraft:diamond'), Item(amount=1, item='minecraft:stick')]\n",
      "[Salvaging] ingredients=[Item(amount=1, item='simplyswords:iron_warglaive')] result=[Item(amount=1, item='minecraft:iron_nugget'), Item(amount=2, item='minecraft:iron_ingot'), Item(amount=1, item='minecraft:stick')]\n",
      "[Salvaging] ingredients=[Item(amount=1, item='simplyswords:iron_greathammer')] result=[Item(amount=3, item='minecraft:iron_ingot'), Item(amount=3, item='minecraft:iron_nugget'), Item(amount=1, item='minecraft:stick')]\n",
      "[Salvaging] ingredients=[Item(amount=1, item='simplyswords:diamond_chakram')] result=[Item(amount=4, item='minecraft:iron_nugget'), Item(amount=3, item='minecraft:diamond'), Item(amount=1, item='minecraft:stick')]\n",
      "[Salvaging] ingredients=[Item(amount=1, item='simplyswords:iron_katana')] result=[Item(amount=1, item='minecraft:stick'), Item(amount=2, item='minecraft:iron_ingot')]\n",
      "[Salvaging] ingredients=[Item(amount=1, item='simplyswords:diamond_greathammer')] result=[Item(amount=3, item='minecraft:diamond'), Item(amount=3, item='minecraft:iron_nugget'), Item(amount=1, item='minecraft:stick')]\n",
      "[Salvaging] ingredients=[Item(amount=1, item='simplyswords:diamond_rapier')] result=[Item(amount=2, item='minecraft:diamond'), Item(amount=1, item='minecraft:stick')]\n"
     ]
    }
   ],
   "source": [
    "state = StateManager().from_pickle(\"state.pickle\")\n",
    "SalvageModule(\n",
    "    targets=[\"#simplyswords:swords\"],\n",
    "    valid_ingredients=[\"#forge:ingots\", \"#forge:gems\", \"#forge:rods\", \"#forge:nuggets\"]\n",
    ").run(state)"
   ]
  }
 ],
 "metadata": {
  "kernelspec": {
   "display_name": "Python 3",
   "language": "python",
   "name": "python3"
  },
  "language_info": {
   "codemirror_mode": {
    "name": "ipython",
    "version": 3
   },
   "file_extension": ".py",
   "mimetype": "text/x-python",
   "name": "python",
   "nbconvert_exporter": "python",
   "pygments_lexer": "ipython3",
   "version": "3.10.11"
  }
 },
 "nbformat": 4,
 "nbformat_minor": 2
}
