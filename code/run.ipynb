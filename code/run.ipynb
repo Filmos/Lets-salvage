{
 "cells": [
  {
   "cell_type": "code",
   "execution_count": 1,
   "metadata": {},
   "outputs": [],
   "source": [
    "from reading.reader import Reader\n",
    "from state.state_manager import StateManager"
   ]
  },
  {
   "cell_type": "code",
   "execution_count": 2,
   "metadata": {},
   "outputs": [
    {
     "name": "stdout",
     "output_type": "stream",
     "text": [
      "['simplyswords:netherite_rapier', 'simplyswords:diamond_rapier', 'simplyswords:iron_chakram', 'simplyswords:gold_chakram', 'simplyswords:diamond_chakram', 'simplyswords:netherite_chakram', 'simplyswords:iron_scythe', 'simplyswords:gold_scythe', 'simplyswords:diamond_scythe', 'simplyswords:netherite_scythe', 'simplyswords:gold_rapier', 'simplyswords:iron_rapier', 'simplyswords:iron_glaive', 'simplyswords:gold_glaive', 'simplyswords:diamond_glaive', 'simplyswords:netherite_glaive', 'simplyswords:iron_warglaive', 'simplyswords:gold_warglaive', 'simplyswords:diamond_warglaive', 'simplyswords:netherite_warglaive', 'simplyswords:iron_spear', 'simplyswords:gold_spear', 'simplyswords:diamond_spear', 'simplyswords:netherite_spear', 'simplyswords:iron_sai', 'simplyswords:gold_sai', 'simplyswords:diamond_sai', 'simplyswords:netherite_sai', 'simplyswords:iron_katana', 'simplyswords:gold_katana', 'simplyswords:diamond_katana', 'simplyswords:netherite_katana', 'simplyswords:iron_cutlass', 'simplyswords:gold_cutlass', 'simplyswords:diamond_cutlass', 'simplyswords:netherite_cutlass', 'simplyswords:iron_longsword', 'simplyswords:gold_longsword', 'simplyswords:diamond_longsword', 'simplyswords:netherite_longsword', 'simplyswords:netherite_claymore', 'simplyswords:diamond_claymore', 'simplyswords:gold_claymore', 'simplyswords:iron_claymore', 'simplyswords:iron_twinblade', 'simplyswords:gold_twinblade', 'simplyswords:diamond_twinblade', 'simplyswords:netherite_twinblade', 'simplyswords:netherite_greathammer', 'simplyswords:diamond_greathammer', 'simplyswords:gold_greathammer', 'simplyswords:iron_greathammer', 'simplyswords:netherite_greataxe', 'simplyswords:diamond_greataxe', 'simplyswords:gold_greataxe', 'simplyswords:iron_greataxe', 'simplyswords:iron_halberd', 'simplyswords:gold_halberd', 'simplyswords:diamond_halberd', 'simplyswords:netherite_halberd', 'simplyswords:watcher_claymore', 'simplyswords:brimstone_claymore', 'simplyswords:storms_edge', 'simplyswords:stormbringer', 'simplyswords:sword_on_a_stick', 'simplyswords:bramblethorn', 'simplyswords:runic_twinblade', 'simplyswords:runic_claymore', 'simplyswords:runic_cutlass', 'simplyswords:runic_katana', 'simplyswords:runic_sai', 'simplyswords:runic_spear', 'simplyswords:runic_chakram', 'simplyswords:watching_warglaive', 'simplyswords:runic_glaive', 'simplyswords:runic_longsword', 'simplyswords:runic_greathammer', 'simplyswords:runic_greataxe', 'simplyswords:runic_rapier', 'simplyswords:runic_scythe', 'simplyswords:runic_halberd', 'simplyswords:runic_warglaive', 'simplyswords:toxic_longsword', 'simplyswords:emberblade', 'simplyswords:frostfall', 'simplyswords:soulpyre', 'simplyswords:molten_edge', 'simplyswords:livyatan', 'simplyswords:icewhisper', 'simplyswords:arcanethyst', 'simplyswords:thunderbrand', 'simplyswords:hearthflame', 'simplyswords:twisted_blade', 'simplyswords:soulrender', 'simplyswords:soulkeeper', 'simplyswords:soulstealer', 'simplyswords:mjolnir', 'simplyswords:slumbering_lichblade', 'simplyswords:waking_lichblade', 'simplyswords:awakened_lichblade', 'simplyswords:shadowsting', 'simplyswords:dormant_relic', 'simplyswords:tainted_relic', 'simplyswords:righteous_relic', 'simplyswords:sunfire', 'simplyswords:harbinger', 'simplyswords:whisperwind', 'simplyswords:gobber_compat/gobber/gobber_chakram', 'simplyswords:gobber_compat/gobber/gobber_claymore', 'simplyswords:gobber_compat/gobber/gobber_cutlass', 'simplyswords:gobber_compat/gobber/gobber_glaive', 'simplyswords:gobber_compat/gobber/gobber_greataxe', 'simplyswords:gobber_compat/gobber/gobber_greathammer', 'simplyswords:gobber_compat/gobber/gobber_katana', 'simplyswords:gobber_compat/gobber/gobber_longsword', 'simplyswords:gobber_compat/gobber/gobber_rapier', 'simplyswords:gobber_compat/gobber/gobber_sai', 'simplyswords:gobber_compat/gobber/gobber_scythe', 'simplyswords:gobber_compat/gobber/gobber_spear', 'simplyswords:gobber_compat/gobber/gobber_twinblade', 'simplyswords:gobber_compat/gobber/gobber_warglaive', 'simplyswords:gobber_compat/gobber/gobber_halberd', 'simplyswords:gobber_compat/gobber_nether/gobber_nether_chakram', 'simplyswords:gobber_compat/gobber_nether/gobber_nether_claymore', 'simplyswords:gobber_compat/gobber_nether/gobber_nether_cutlass', 'simplyswords:gobber_compat/gobber_nether/gobber_nether_glaive', 'simplyswords:gobber_compat/gobber_nether/gobber_nether_greataxe', 'simplyswords:gobber_compat/gobber_nether/gobber_nether_greathammer', 'simplyswords:gobber_compat/gobber_nether/gobber_nether_katana', 'simplyswords:gobber_compat/gobber_nether/gobber_nether_longsword', 'simplyswords:gobber_compat/gobber_nether/gobber_nether_rapier', 'simplyswords:gobber_compat/gobber_nether/gobber_nether_sai', 'simplyswords:gobber_compat/gobber_nether/gobber_nether_scythe', 'simplyswords:gobber_compat/gobber_nether/gobber_nether_spear', 'simplyswords:gobber_compat/gobber_nether/gobber_nether_twinblade', 'simplyswords:gobber_compat/gobber_nether/gobber_nether_warglaive', 'simplyswords:gobber_compat/gobber_nether/gobber_nether_halberd', 'simplyswords:gobber_compat/gobber_end/gobber_end_chakram', 'simplyswords:gobber_compat/gobber_end/gobber_end_claymore', 'simplyswords:gobber_compat/gobber_end/gobber_end_cutlass', 'simplyswords:gobber_compat/gobber_end/gobber_end_glaive', 'simplyswords:gobber_compat/gobber_end/gobber_end_greataxe', 'simplyswords:gobber_compat/gobber_end/gobber_end_greathammer', 'simplyswords:gobber_compat/gobber_end/gobber_end_katana', 'simplyswords:gobber_compat/gobber_end/gobber_end_longsword', 'simplyswords:gobber_compat/gobber_end/gobber_end_rapier', 'simplyswords:gobber_compat/gobber_end/gobber_end_sai', 'simplyswords:gobber_compat/gobber_end/gobber_end_scythe', 'simplyswords:gobber_compat/gobber_end/gobber_end_spear', 'simplyswords:gobber_compat/gobber_end/gobber_end_twinblade', 'simplyswords:gobber_compat/gobber_end/gobber_end_warglaive', 'simplyswords:gobber_compat/gobber_end/gobber_end_halberd']\n"
     ]
    }
   ],
   "source": [
    "# reader = Reader(\"D:\\Games\\curseforge\\minecraft\\Instances\\TNP Limitless 7 - LL7\")\n",
    "reader = Reader(\"D:\\Games\\curseforge\\minecraft\\Instances\\TNP test\")\n",
    "state = StateManager().load(reader)\n",
    "print(state.tags['simplyswords:swords'].all())"
   ]
  }
 ],
 "metadata": {
  "kernelspec": {
   "display_name": "Python 3",
   "language": "python",
   "name": "python3"
  },
  "language_info": {
   "codemirror_mode": {
    "name": "ipython",
    "version": 3
   },
   "file_extension": ".py",
   "mimetype": "text/x-python",
   "name": "python",
   "nbconvert_exporter": "python",
   "pygments_lexer": "ipython3",
   "version": "3.10.11"
  }
 },
 "nbformat": 4,
 "nbformat_minor": 2
}
